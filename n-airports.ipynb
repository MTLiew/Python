{
 "cells": [
  {
   "cell_type": "code",
   "execution_count": 1,
   "source": [
    "import random\r\n",
    "import numpy as np\r\n",
    "import math\r\n",
    "\r\n",
    "num_city = 100\r\n",
    "num_air = 3\r\n",
    "num_center = 5\r\n",
    "sigma = 0.1\r\n",
    "cities = set()\r\n",
    "airports = []\r\n",
    "closest = []\r\n",
    "airList = []\r\n",
    "alpha = 0.001\r\n",
    "repetitions = 20\r\n",
    "objectives = []\r\n",
    "myX = []\r\n",
    "newAirports = []\r\n",
    "\r\n",
    "for i in range(repetitions):\r\n",
    "    myX.append(i + 1)\r\n",
    "\r\n",
    "for i in range(num_center):\r\n",
    "    x = random.random()\r\n",
    "    y = random.random()\r\n",
    "    xc = np.random.normal(x, sigma, num_city//num_center)\r\n",
    "    yc = np.random.normal(y, sigma, num_city//num_center)\r\n",
    "    cities = cities.union(zip(xc, yc))\r\n",
    "\r\n",
    "for i in range(num_air):\r\n",
    "    x = random.random()\r\n",
    "    y = random.random()\r\n",
    "    airports.append((x,y))\r\n",
    "\r\n",
    "for i in range(len(airports)):\r\n",
    "    airList.append(airports[i][0])\r\n",
    "    airList.append(airports[i][1])\r\n",
    "\r\n",
    "for a in range(repetitions):\r\n",
    "    counter = 0\r\n",
    "    objective = 0\r\n",
    "\r\n",
    "    for i in cities:\r\n",
    "        currentShortest = 1\r\n",
    "        closest.append(0)\r\n",
    "\r\n",
    "        x = 0\r\n",
    "        for j in range(len(airports)):\r\n",
    "            distance = math.sqrt(((i[0] - airList[x]) ** 2) + ((i[1] - airList[x+1]) ** 2))\r\n",
    "\r\n",
    "            if distance < currentShortest:\r\n",
    "                currentShortest = distance\r\n",
    "                closest[counter] = j\r\n",
    "            x += 2\r\n",
    "        \r\n",
    "        j = 0\r\n",
    "        for k in range(len(airports)):\r\n",
    "            if closest[counter] == k:\r\n",
    "                airList[j] -= alpha * 2 * (airList[j]- i[0])\r\n",
    "                airList[j + 1] -= alpha * 2 * (airList[j + 1] - i[1])\r\n",
    "                objective += ((airList[j] - i[0]) ** 2) + ((airList[j + 1] - i[1]) ** 2)\r\n",
    "            j += 2\r\n",
    "        \r\n",
    "        counter += 1\r\n",
    "    \r\n",
    "    objectives.append(objective)\r\n",
    "\r\n",
    "j = 0\r\n",
    "for i in range(len(airports)):\r\n",
    "    newAirports.append((airList[j], airList[j + 1]))\r\n",
    "    j += 2\r\n",
    "\r\n",
    "import matplotlib.pyplot as plt\r\n",
    "\r\n",
    "zip_cities = zip(*cities)\r\n",
    "plt.scatter(*zip_cities, marker='+',color='b', label='Cities')\r\n",
    "zip_airs = zip(*airports)\r\n",
    "plt.scatter(*zip_airs, marker='*', color='r', s=100, label='Airports')\r\n",
    "zip_newAirs = zip(*newAirports)\r\n",
    "plt.scatter(*zip_newAirs, marker = 'o', color = 'g', s=25, label = 'New Airports')\r\n",
    "plt.legend()\r\n",
    "plt\r\n",
    "\r\n",
    "figure2 = plt.figure()\r\n",
    "plt.plot(myX, objectives, 'o', color = 'blue')\r\n",
    "plt.show()"
   ],
   "outputs": [
    {
     "output_type": "display_data",
     "data": {
      "image/png": "[encoded data removed]",
      "text/plain": [
       "<Figure size 432x288 with 1 Axes>"
      ]
     },
     "metadata": {
      "needs_background": "light"
     }
    },
    {
     "output_type": "display_data",
     "data": {
      "image/png": "[encoded data removed]",
      "text/plain": [
       "<Figure size 432x288 with 1 Axes>"
      ]
     },
     "metadata": {
      "needs_background": "light"
     }
    }
   ],
   "metadata": {}
  }
 ],
 "metadata": {
  "kernelspec": {
   "name": "python3",
   "display_name": "Python 3.8.5 64-bit"
  },
  "language_info": {
   "codemirror_mode": {
    "name": "ipython",
    "version": 3
   },
   "file_extension": ".py",
   "mimetype": "text/x-python",
   "name": "python",
   "nbconvert_exporter": "python",
   "pygments_lexer": "ipython3",
   "version": "3.8.5"
  },
  "interpreter": {
   "hash": "be9a452ce31d1d3c3f567acb8879994083b5282c7dcca424c5db824dd5ee3917"
  }
 },
 "nbformat": 4,
 "nbformat_minor": 2
}